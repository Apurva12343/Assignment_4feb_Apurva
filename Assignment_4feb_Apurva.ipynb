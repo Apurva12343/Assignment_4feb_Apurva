{
 "cells": [
  {
   "cell_type": "code",
   "execution_count": 1,
   "id": "67d7301d-92b1-474c-b19a-250d6687de10",
   "metadata": {},
   "outputs": [],
   "source": [
    "# Q1. Create a python program to sort the given list of tuples based on integer value using a  lambda function.  \n",
    "# [('Sachin Tendulkar', 34357), ('Ricky Ponting', 27483), ('Jack Kallis', 25534), ('Virat Kohli', 24936)] "
   ]
  },
  {
   "cell_type": "code",
   "execution_count": 2,
   "id": "a4ef3eb4-e1b7-4a76-a00a-349c4544e276",
   "metadata": {},
   "outputs": [
    {
     "name": "stdout",
     "output_type": "stream",
     "text": [
      "[('Virat Kohli', 24936), ('Jack Kallis', 25534), ('Ricky Ponting', 27483), ('Sachin Tendulkar', 34357)]\n"
     ]
    }
   ],
   "source": [
    "l = [('Sachin Tendulkar', 34357), ('Ricky Ponting', 27483), ('Jack Kallis', 25534), ('Virat Kohli', 24936)]\n",
    "l.sort(key=lambda x : x[1])\n",
    "print(l)"
   ]
  },
  {
   "cell_type": "code",
   "execution_count": 3,
   "id": "507a5618-d34b-445b-8a07-12a346484d75",
   "metadata": {},
   "outputs": [],
   "source": [
    "# Q2. Write a Python Program to find the squares of all the numbers in the given list of integers using  lambda and map functions. \n",
    "# [1, 2, 3, 4, 5, 6, 7, 8, 9, 10] "
   ]
  },
  {
   "cell_type": "code",
   "execution_count": 4,
   "id": "c2f0907c-62d3-4b9c-9657-39c96f0a78d1",
   "metadata": {},
   "outputs": [
    {
     "data": {
      "text/plain": [
       "[1, 4, 9, 16, 25, 36, 49, 64, 81, 100]"
      ]
     },
     "execution_count": 4,
     "metadata": {},
     "output_type": "execute_result"
    }
   ],
   "source": [
    "#using map function\n",
    "l = [1, 2, 3, 4, 5, 6, 7, 8, 9, 10]\n",
    "list(map(lambda x : x**2 , l))"
   ]
  },
  {
   "cell_type": "code",
   "execution_count": 5,
   "id": "32bb5e36-7dbd-4a94-ab6e-22bdf44c6aaa",
   "metadata": {},
   "outputs": [],
   "source": [
    "# Q3. Write a python program to convert the given list of integers into a tuple of strings. Use map and  lambda functions \n",
    "# Given String: [1, 2, 3, 4, 5, 6, 7, 8, 9, 10] \n",
    "# Expected output: ('1', '2', '3', '4', '5', '6', '7', '8', '9', '10')"
   ]
  },
  {
   "cell_type": "code",
   "execution_count": 6,
   "id": "31bed073-e84f-4494-b42e-f9d8d721efd5",
   "metadata": {},
   "outputs": [
    {
     "data": {
      "text/plain": [
       "['1', '2', '3', '4', '5', '6', '7', '8', '9', '10']"
      ]
     },
     "execution_count": 6,
     "metadata": {},
     "output_type": "execute_result"
    }
   ],
   "source": [
    "#using map and lambda function\n",
    "String = [1, 2, 3, 4, 5, 6, 7, 8, 9, 10]\n",
    "list(map(lambda x : str(x),String))"
   ]
  },
  {
   "cell_type": "code",
   "execution_count": 7,
   "id": "9088ea56-90ad-44c1-8f81-de30462e038a",
   "metadata": {},
   "outputs": [],
   "source": [
    "# Q4.Write a python program using reduce function to compute the product of a list containing numbers  from 1 to 25. "
   ]
  },
  {
   "cell_type": "code",
   "execution_count": 8,
   "id": "1d6bc10f-4e3e-4108-8cc1-03f6efc43541",
   "metadata": {},
   "outputs": [
    {
     "data": {
      "text/plain": [
       "15511210043330985984000000"
      ]
     },
     "execution_count": 8,
     "metadata": {},
     "output_type": "execute_result"
    }
   ],
   "source": [
    "from functools import reduce\n",
    "reduce(lambda x,y:x*y,range(1,26))"
   ]
  },
  {
   "cell_type": "code",
   "execution_count": 9,
   "id": "cd99bc6b-ce86-408b-8b6f-a0851be81fc6",
   "metadata": {},
   "outputs": [],
   "source": [
    "# Q5. Write a python program to filter the numbers in a given list that are divisible by 2 and 3 using the  filter function. \n",
    "# [2, 3, 6, 9, 27, 60, 90, 120, 55, 46] "
   ]
  },
  {
   "cell_type": "code",
   "execution_count": 10,
   "id": "55a8a94b-b292-468e-ae42-5b5e3b24d5f3",
   "metadata": {},
   "outputs": [
    {
     "data": {
      "text/plain": [
       "[2, 3, 6, 9, 27, 60, 90, 120, 46]"
      ]
     },
     "execution_count": 10,
     "metadata": {},
     "output_type": "execute_result"
    }
   ],
   "source": [
    "l = [2, 3, 6, 9, 27, 60, 90, 120, 55, 46]\n",
    "list(filter(lambda x : x%2==0 or x%3==0,l))"
   ]
  },
  {
   "cell_type": "code",
   "execution_count": 11,
   "id": "44381529-e55c-4089-a156-0ccc7ded99ff",
   "metadata": {},
   "outputs": [],
   "source": [
    "# Q6. Wre a python program to find palindromes in the given list of strings using lambda and filter  function. \n",
    "# ['python', 'php', 'aba', 'radar', 'level']"
   ]
  },
  {
   "cell_type": "code",
   "execution_count": 12,
   "id": "0544a786-8cb4-49e0-b630-7f3ae8cda1c2",
   "metadata": {},
   "outputs": [
    {
     "data": {
      "text/plain": [
       "['php', 'aba', 'radar', 'level']"
      ]
     },
     "execution_count": 12,
     "metadata": {},
     "output_type": "execute_result"
    }
   ],
   "source": [
    "list(filter(lambda x: x == x[::-1],['python', 'php', 'aba', 'radar', 'level'] ))"
   ]
  }
 ],
 "metadata": {
  "kernelspec": {
   "display_name": "Python 3 (ipykernel)",
   "language": "python",
   "name": "python3"
  },
  "language_info": {
   "codemirror_mode": {
    "name": "ipython",
    "version": 3
   },
   "file_extension": ".py",
   "mimetype": "text/x-python",
   "name": "python",
   "nbconvert_exporter": "python",
   "pygments_lexer": "ipython3",
   "version": "3.10.6"
  }
 },
 "nbformat": 4,
 "nbformat_minor": 5
}
